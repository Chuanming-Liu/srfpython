{
 "cells": [
  {
   "cell_type": "markdown",
   "metadata": {},
   "source": [
    "# Tutorial for srfpython"
   ]
  },
  {
   "cell_type": "markdown",
   "metadata": {},
   "source": [
    "Overview  \n",
    " + I/ create a 1-D depth model  \n",
    " + II/ compute dispersion curves   \n",
    "     + II.1/ use in a python program  \n",
    "     + II.2/ use in command line   \n",
    " - III/ depth inversion  \n",
    " - III.1/ Program HerrMet  \n",
    " - III.2/ Application  \n",
    "     + III.2.1/ Target data  \n",
    "     + III.2.2/ Parameterization  \n",
    "     + III.2.3/ Run inversion  \n",
    "     + III.2.4/ Extract results"
   ]
  },
  {
   "cell_type": "code",
   "execution_count": null,
   "metadata": {},
   "outputs": [],
   "source": [
    "from srfpython import *"
   ]
  },
  {
   "cell_type": "markdown",
   "metadata": {},
   "source": [
    "## I/ create a 1-D depth model"
   ]
  },
  {
   "cell_type": "code",
   "execution_count": null,
   "metadata": {},
   "outputs": [],
   "source": [
    "# create 1-D depth model\n",
    "ztop = [0.00, 0.25, 0.45, 0.65, 0.85, 1.05, 1.53, 1.80] #km, top layer depth\n",
    "vp   = [1.85, 2.36, 2.63, 3.15, 3.71, 4.54, 5.48, 5.80] #km/s\n",
    "vs   = [0.86, 1.10, 1.24, 1.47, 1.73, 2.13, 3.13, 3.31] #km/s\n",
    "rh   = [2.47, 2.47, 2.47, 2.47, 2.47, 2.58, 2.58, 2.63] #g/cm3\n",
    "\n",
    "dm = depthmodel_from_arrays(ztop, vp, vs, rh)\n",
    "print dm #__str__ returns the file content at mod96 format, see Herrmann doc (CPS), see also dm.write96"
   ]
  },
  {
   "cell_type": "code",
   "execution_count": null,
   "metadata": {},
   "outputs": [],
   "source": [
    "#write it as a file at mod96 format (CPS)\n",
    "dm.write96('dmtuto.mod96')"
   ]
  },
  {
   "cell_type": "code",
   "execution_count": null,
   "metadata": {},
   "outputs": [],
   "source": [
    "# display\n",
    "plt.figure(figsize=(2, 4))\n",
    "dm.show(gca())\n",
    "gca().set_title('figure 1 : dmtuto.mod96')\n",
    "gca().grid(True)\n",
    "plt.legend();"
   ]
  },
  {
   "cell_type": "markdown",
   "metadata": {},
   "source": [
    "## II/ compute dispersion curves "
   ]
  },
  {
   "cell_type": "markdown",
   "metadata": {},
   "source": [
    "### II.1/ use in a python program"
   ]
  },
  {
   "cell_type": "code",
   "execution_count": null,
   "metadata": {},
   "outputs": [],
   "source": [
    "print help(dispersion_2)"
   ]
  },
  {
   "cell_type": "code",
   "execution_count": null,
   "metadata": {},
   "outputs": [],
   "source": [
    "# define the dipsersion curves to compute\n",
    "#          Wave(R/L) Type(C/U) Mode    Frequency array (Hz)             \n",
    "Curves = [('R',      'U',      0,      freqspace(0.2, 3.5, 35, \"log\")), \n",
    "          ('R',      'U',      1,      freqspace(0.2, 3.5, 35, \"log\")), \n",
    "          ('R',      'C',      0,      freqspace(0.2, 3.5, 35, \"log\")), \n",
    "          ('R',      'C',      1,      freqspace(0.2, 3.5, 35, \"log\")), \n",
    "          ('L',      'U',      0,      freqspace(0.2, 3.5, 35, \"log\")), \n",
    "          ('L',      'U',      1,      freqspace(0.2, 3.5, 35, \"log\")), \n",
    "          ('L',      'C',      0,      freqspace(0.2, 3.5, 35, \"log\")), \n",
    "          ('L',      'C',      1,      freqspace(0.2, 3.5, 35, \"log\"))] \n",
    "\n",
    "# compute dispersion curves\n",
    "with Timer('dispersion'):\n",
    "    out = list(dispersion_2(ztop, vp, vs, rh, Curves))\n",
    "\n",
    "# display results\n",
    "ax = plt.gca()\n",
    "for w, t, m, fs, us in out:\n",
    "    ax.loglog(1. / fs, us, '+-', label = \"%s%s%d\" % (w, t, m))\n",
    "ax.set_xlabel('period (s)')\n",
    "ax.set_ylabel('velocity (km/s)')    \n",
    "ax.grid(True, which = \"major\")\n",
    "ax.grid(True, which = \"minor\")\n",
    "logtick(ax, \"xy\")\n",
    "ax.set_title('figure 2 : Herrmann.py demo')\n",
    "\n",
    "plt.legend()\n",
    "plt.show()"
   ]
  },
  {
   "cell_type": "markdown",
   "metadata": {},
   "source": [
    "### II.2/ use in command line "
   ]
  },
  {
   "cell_type": "code",
   "execution_count": null,
   "metadata": {},
   "outputs": [],
   "source": [
    "# compute dispersion curves, and save as surf96 file\n",
    "import os\n",
    "os.system('rm -f dmtuto*.surf96')\n",
    "%run -i ../bin/m96 --disp dmtuto.mod96 \\\n",
    "    -LC0 .1 10 30 plog \\\n",
    "    -RC1 .1 10 30 plog \\\n",
    "    -RU0 .1 10 30 plog \\\n",
    "    -save dmtuto.surf96\n"
   ]
  },
  {
   "cell_type": "code",
   "execution_count": null,
   "metadata": {},
   "outputs": [],
   "source": [
    "# display output\n",
    "%run -i ../bin/s96 --show dmtuto.surf96 -inline"
   ]
  },
  {
   "cell_type": "markdown",
   "metadata": {},
   "source": [
    "see also programs s96 and m96 that provide more manipulation tools  \n",
    "for depth models and surface wave dispersion curves"
   ]
  },
  {
   "cell_type": "code",
   "execution_count": null,
   "metadata": {},
   "outputs": [],
   "source": [
    "%run -i ../bin/m96 --help"
   ]
  },
  {
   "cell_type": "code",
   "execution_count": null,
   "metadata": {},
   "outputs": [],
   "source": [
    "%run -i ../bin/s96 --help"
   ]
  },
  {
   "cell_type": "markdown",
   "metadata": {},
   "source": [
    "## III/ depth inversion"
   ]
  },
  {
   "cell_type": "markdown",
   "metadata": {},
   "source": [
    "### III.1/ Program HerrMet"
   ]
  },
  {
   "cell_type": "code",
   "execution_count": null,
   "metadata": {},
   "outputs": [],
   "source": [
    "%run -i ../bin/HerrMet --help"
   ]
  },
  {
   "cell_type": "code",
   "execution_count": null,
   "metadata": {
    "scrolled": false
   },
   "outputs": [],
   "source": [
    "%run -i ../bin/HerrMet -ex"
   ]
  },
  {
   "cell_type": "markdown",
   "metadata": {},
   "source": [
    "### III.2/ Application"
   ]
  },
  {
   "cell_type": "markdown",
   "metadata": {},
   "source": [
    "we propose to invert the synthetic data generated in section I (dmtuto.surf96) and compare the inversion result to the actual model used to synthetize the data (i.e. dmtuto.mod96)"
   ]
  },
  {
   "cell_type": "code",
   "execution_count": null,
   "metadata": {},
   "outputs": [],
   "source": [
    "assert os.path.exists(\"./dmtuto.surf96\")"
   ]
  },
  {
   "cell_type": "markdown",
   "metadata": {},
   "source": [
    "#### III.2.1/ Target data"
   ]
  },
  {
   "cell_type": "code",
   "execution_count": null,
   "metadata": {
    "scrolled": false
   },
   "outputs": [],
   "source": [
    "# get the target dispersion curves, resample it between 0.25-1 Hz \n",
    "# with 7 samples spaced logarithmically in period domain\n",
    "# adjust uncertainties to 0.2*velocity (i.e. constant uncertainty in logaritmic domain), \n",
    "# overwrite target if exists (_HerrMet.target) \n",
    "%run -i ../bin/HerrMet --target dmtuto.surf96 \\\n",
    "            -resamp 0.25 1.0 7 plog \\\n",
    "            -lunc 0.2 \\\n",
    "            -ot\n",
    "%run -i ../bin/s96 --show _HerrMet.target -inline\n",
    "#or ./bin/HerrMet --target dmtuto.surf96"
   ]
  },
  {
   "cell_type": "markdown",
   "metadata": {},
   "source": [
    "#### III.2.2/ Parameterization"
   ]
  },
  {
   "cell_type": "code",
   "execution_count": null,
   "metadata": {
    "scrolled": false
   },
   "outputs": [],
   "source": [
    "# build the parameter file from an existing depthmodel (dmtuto.mod96),\n",
    "# use 4 layers down to 3 km, \n",
    "# use parametrization mode mZVSPRRH (means top depth, VS, VP/VS and density in each layer)\n",
    "# require vp, vs and density to be growing\n",
    "# overwrite paramfile if exists (_HerrMet.param) and display\n",
    "%run -i ../bin/HerrMet --param 4 3. \\\n",
    "            -basedon dmtuto.mod96 -m96 dmtuto.mod96 \\\n",
    "            -t  mZVSPRRH \\\n",
    "            -growing \\\n",
    "            -op --disp -inline"
   ]
  },
  {
   "cell_type": "markdown",
   "metadata": {},
   "source": [
    "> red dashed curves = prior boundaries  \n",
    "> green duspersion curves = target data  \n",
    "> purple model = actual model used to generate the synthetic data  \n",
    "\n",
    "> Note that at this step, the boundaries for each parameter (red dashed curves)   \n",
    "> are the same (because VINF=VSUP in _HerrMet.param) : i.e. all parameters are locked  \n",
    "> one need to adjust the VINF, VSUP boundaries for all parameters to invert  \n",
    ">\n",
    "> you may do it manually (edit _HerrMet.param),   \n",
    "> here I do it with programming tools for tutorial"
   ]
  },
  {
   "cell_type": "code",
   "execution_count": null,
   "metadata": {
    "scrolled": false
   },
   "outputs": [],
   "source": [
    "#load the parameter file, find lines related to top depth and to VS\n",
    "from tetedenoeud import AsciiFile\n",
    "A = AsciiFile('_HerrMet.param')\n",
    "\n",
    "IZ  = np.asarray([\"Z\"  in _ for _ in A['KEY']], bool) #lines corresponding to Z parameters\n",
    "IVS = np.asarray([\"VS\" in _ for _ in A['KEY']], bool) #lines corresponding to VS parameters\n",
    "IPR = np.asarray([\"PR\" in _ for _ in A['KEY']], bool) #lines corresponding to VP/VS parameters"
   ]
  },
  {
   "cell_type": "code",
   "execution_count": null,
   "metadata": {},
   "outputs": [],
   "source": [
    "#change parameter boundaries (decrease VINF and increase VSUP), overwrite _HerrMet.param\n",
    "A['VINF'][IVS] = [0.55, 0.78, 1.53, 1.65]\n",
    "A['VSUP'][IVS] = [2.22, 3.15, 4.00, 4.00]\n",
    "A['VINF'][IZ]  = [-.31, -1.5, -3.1]\n",
    "A['VSUP'][IZ]  = [-.11, -.79, -2.9]\n",
    "print A\n",
    "A.write('_HerrMet.param')"
   ]
  },
  {
   "cell_type": "code",
   "execution_count": null,
   "metadata": {},
   "outputs": [],
   "source": [
    "#display the parameterization\n",
    "#note that the boundaries now allow VS and Zop to vary between the red dashed lines\n",
    "%run -i ../bin/HerrMet --disp -inline -m96 ./dmtuto.mod96"
   ]
  },
  {
   "cell_type": "markdown",
   "metadata": {},
   "source": [
    "#### III.2.3/ Run inversion"
   ]
  },
  {
   "cell_type": "code",
   "execution_count": null,
   "metadata": {
    "scrolled": true
   },
   "outputs": [],
   "source": [
    "#run inversion with 4 markov chains, keep 1000 models per chain\n",
    "%run -i ../bin/HerrMet -w 4 -taskset \"0-3\" \\\n",
    "        --run restart -nchain 4 -nkeep 1000 -verbose off"
   ]
  },
  {
   "cell_type": "code",
   "execution_count": null,
   "metadata": {},
   "outputs": [],
   "source": [
    "#display the best 1000 models found and their image in the dataspace \n",
    "#(recomputed with thinner resolution : overdisp)\n",
    "#compute the median and std of the resulting population at each depth (blue)\n",
    "#display\n",
    "%run -i ../bin/HerrMet \\\n",
    "        --disp 1000 1 \\\n",
    "            -overdisp -verbose off \\\n",
    "            -range \\\n",
    "            -inline \\\n",
    "            -m96 dmtuto.mod96"
   ]
  },
  {
   "cell_type": "markdown",
   "metadata": {},
   "source": [
    "> red dashed curves = prior boundaries  \n",
    "> green duspersion curves = target data  \n",
    "> gray models = best models sorted by increaseing likelyhood  \n",
    "> gray dispersion curves = corresponding data, recomputed with higher resolution \n",
    "> blue lines = median (thick), 16% 84% percentiles (thin) computed from the best models displayed  \n",
    "> purple model = actual model used to generate the synthetic data  \n"
   ]
  },
  {
   "cell_type": "markdown",
   "metadata": {},
   "source": [
    "#### III.2.4/ Extract results"
   ]
  },
  {
   "cell_type": "code",
   "execution_count": null,
   "metadata": {},
   "outputs": [],
   "source": [
    "#compute the median and std of the best 1000 models found, save it as mod96 files\n",
    "#named _HerrMet.p0.16.mod96,_HerrMet.p0.50.mod96 and _HerrMet.p0.84.mod96\n",
    "%run -i ../bin/HerrMet --extract 1000 1 "
   ]
  },
  {
   "cell_type": "code",
   "execution_count": null,
   "metadata": {},
   "outputs": [],
   "source": [
    "%run -i ../bin/m96 --show _HerrMet.p*.mod96 dmtuto.mod96 -inline"
   ]
  }
 ],
 "metadata": {
  "kernelspec": {
   "display_name": "Python 2",
   "language": "python",
   "name": "python2"
  },
  "language_info": {
   "codemirror_mode": {
    "name": "ipython",
    "version": 2
   },
   "file_extension": ".py",
   "mimetype": "text/x-python",
   "name": "python",
   "nbconvert_exporter": "python",
   "pygments_lexer": "ipython2",
   "version": "2.7.14"
  }
 },
 "nbformat": 4,
 "nbformat_minor": 2
}
