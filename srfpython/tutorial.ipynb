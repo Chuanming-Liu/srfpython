{
 "cells": [
  {
   "cell_type": "markdown",
   "metadata": {},
   "source": [
    "# tutorial for srfpython"
   ]
  },
  {
   "cell_type": "code",
   "execution_count": null,
   "metadata": {},
   "outputs": [],
   "source": [
    "from srfpython import *\n",
    "import os"
   ]
  },
  {
   "cell_type": "markdown",
   "metadata": {},
   "source": [
    "## I/ create a depth model"
   ]
  },
  {
   "cell_type": "code",
   "execution_count": null,
   "metadata": {},
   "outputs": [],
   "source": [
    "# create 1-D depth model\n",
    "nlayer = 7\n",
    "z = np.linspace(0, 3., nlayer) #top depth, >0, km\n",
    "vp = np.linspace(1., 5., nlayer) #km/s\n",
    "vs = vp / 1.73 #km/s\n",
    "rho = np.linspace(2., 3., nlayer)\n",
    "\n",
    "dm = depthmodel_from_arrays(z, vp, vs, rho)\n",
    "print dm"
   ]
  },
  {
   "cell_type": "code",
   "execution_count": null,
   "metadata": {},
   "outputs": [],
   "source": [
    "# display\n",
    "dm.show(gca())\n",
    "plt.legend();"
   ]
  },
  {
   "cell_type": "code",
   "execution_count": null,
   "metadata": {},
   "outputs": [],
   "source": [
    "#write it as a file\n",
    "dm.write96('dmtuto.mod96')"
   ]
  },
  {
   "cell_type": "markdown",
   "metadata": {},
   "source": [
    "## II/ compute dispersion curves "
   ]
  },
  {
   "cell_type": "markdown",
   "metadata": {},
   "source": [
    "### use in a python program"
   ]
  },
  {
   "cell_type": "code",
   "execution_count": null,
   "metadata": {},
   "outputs": [],
   "source": [
    "# see the demo in Herrmann/Herrmann.py\n",
    "%run -i ./Herrmann/Herrmann.py"
   ]
  },
  {
   "cell_type": "markdown",
   "metadata": {},
   "source": [
    "### use in command line "
   ]
  },
  {
   "cell_type": "code",
   "execution_count": null,
   "metadata": {},
   "outputs": [],
   "source": [
    "# compute dispersion curves, and save as surf96 file\n",
    "%run -i ./bin/m96 --disp dmtuto.mod96 \\\n",
    "    -LC0 .1 10 30 plog \\\n",
    "    -RC1 .1 10 30 plog \\\n",
    "    -RU0 .1 10 30 plog \\\n",
    "    -save dmtuto.surf96\n"
   ]
  },
  {
   "cell_type": "code",
   "execution_count": null,
   "metadata": {},
   "outputs": [],
   "source": [
    "# display output\n",
    "%run -i ./bin/s96 --show dmtuto.surf96 -lock"
   ]
  },
  {
   "cell_type": "code",
   "execution_count": null,
   "metadata": {},
   "outputs": [],
   "source": []
  },
  {
   "cell_type": "code",
   "execution_count": null,
   "metadata": {},
   "outputs": [],
   "source": []
  }
 ],
 "metadata": {
  "kernelspec": {
   "display_name": "Python 2",
   "language": "python",
   "name": "python2"
  },
  "language_info": {
   "codemirror_mode": {
    "name": "ipython",
    "version": 2
   },
   "file_extension": ".py",
   "mimetype": "text/x-python",
   "name": "python",
   "nbconvert_exporter": "python",
   "pygments_lexer": "ipython2",
   "version": "2.7.14"
  }
 },
 "nbformat": 4,
 "nbformat_minor": 2
}
