{
 "cells": [
  {
   "cell_type": "markdown",
   "metadata": {},
   "source": [
    "# tutorial for srfpython"
   ]
  },
  {
   "cell_type": "markdown",
   "metadata": {},
   "source": [
    "## I/ create a depth model"
   ]
  },
  {
   "cell_type": "code",
   "execution_count": null,
   "metadata": {},
   "outputs": [],
   "source": [
    "from srfpython import *\n",
    "import os"
   ]
  },
  {
   "cell_type": "code",
   "execution_count": null,
   "metadata": {},
   "outputs": [],
   "source": [
    "# create 1-D depth model\n",
    "nlayer = 7\n",
    "z = np.linspace(0, 3., nlayer) #top depth, >0, km\n",
    "vp = np.linspace(1., 5., nlayer) #km/s\n",
    "vs = vp / 1.73 #km/s\n",
    "rho = np.linspace(2., 3., nlayer)\n",
    "\n",
    "dm = depthmodel_from_arrays(z, vp, vs, rho)\n",
    "print dm"
   ]
  },
  {
   "cell_type": "code",
   "execution_count": null,
   "metadata": {},
   "outputs": [],
   "source": [
    "# display\n",
    "dm.show(gca())\n",
    "plt.legend();"
   ]
  },
  {
   "cell_type": "code",
   "execution_count": null,
   "metadata": {},
   "outputs": [],
   "source": [
    "#write it as a file\n",
    "dm.write96('/tmp/dmtuto.mod96')"
   ]
  },
  {
   "cell_type": "markdown",
   "metadata": {},
   "source": [
    "## II/ compute dispersion curves "
   ]
  },
  {
   "cell_type": "code",
   "execution_count": null,
   "metadata": {},
   "outputs": [],
   "source": [
    "print help(dispersion_1)"
   ]
  },
  {
   "cell_type": "code",
   "execution_count": null,
   "metadata": {},
   "outputs": [],
   "source": [
    "#indicate wave (R=Rayleigh, L=Love) type (C=phase velocity, U=group velocity), mode number, freqs (frequency array in Hz)\n",
    "freqs = freqspace(.1, 10., 30, \"log\")\n",
    "curve1 = ('L', 'C', 0, freqs) \n",
    "curve2 = ('R', 'C', 1, freqs) \n",
    "curve3 = ('R', 'U', 0, freqs)\n",
    "\n",
    "# reorganize inputs for dispersion_1\n",
    "Waves, Types, Modes, Freqs = zip(*[curve1, curve2, curve3])\n",
    "\n",
    "# run and display\n",
    "for w, t, m, F, V in dispersion_1(\\\n",
    "        ztop = dm.ztop(), \n",
    "        vp   = dm.vp.values, \n",
    "        vs   = dm.vs.values, \n",
    "        rh   = dm.rh.values, \n",
    "        Waves = Waves, \n",
    "        Types = Types, \n",
    "        Modes = Modes, \n",
    "        Freqs = Freqs):\n",
    "    \n",
    "    gca().loglog(1./F, V, label=\"%s%s%d\" % (w, t, m))\n",
    "\n",
    "gca().set_xlabel('period (s)')\n",
    "gca().set_ylabel('velocity (km/s)')\n",
    "logtick(gca(), \"xy\")\n",
    "plt.legend();\n"
   ]
  },
  {
   "cell_type": "markdown",
   "metadata": {},
   "source": [
    "alternatively, run the following in a terminal\n",
    "\n",
    "```\n",
    "m96 --disp /tmp/dmtuto.mod96 \\\n",
    "    -LC0 .1 10 30 plog \\\n",
    "    -RC1 .1 10 30 plog \\\n",
    "    -RU0 .1 10 30 plog \n",
    "```\n",
    "\n",
    "where m96 denotes srfpython/srfpython/bin/m96\n",
    "see `m96 --help` for further details"
   ]
  },
  {
   "cell_type": "code",
   "execution_count": null,
   "metadata": {},
   "outputs": [],
   "source": []
  }
 ],
 "metadata": {
  "kernelspec": {
   "display_name": "Python 2",
   "language": "python",
   "name": "python2"
  },
  "language_info": {
   "codemirror_mode": {
    "name": "ipython",
    "version": 2
   },
   "file_extension": ".py",
   "mimetype": "text/x-python",
   "name": "python",
   "nbconvert_exporter": "python",
   "pygments_lexer": "ipython2",
   "version": "2.7.14"
  }
 },
 "nbformat": 4,
 "nbformat_minor": 2
}
